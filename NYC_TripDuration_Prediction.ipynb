{
 "cells": [
  {
   "cell_type": "markdown",
   "metadata": {},
   "source": [
    "# NYC taxi trip duration prediction"
   ]
  },
  {
   "cell_type": "code",
   "execution_count": 1,
   "metadata": {},
   "outputs": [],
   "source": [
    "import numpy as np\n",
    "import pandas as pd\n",
    "import matplotlib.pyplot as plt\n",
    "import seaborn as sns\n",
    "import warnings\n",
    "\n",
    "warnings.filterwarnings('ignore')\n",
    "warnings.filterwarnings('always')"
   ]
  },
  {
   "cell_type": "code",
   "execution_count": 2,
   "metadata": {},
   "outputs": [],
   "source": [
    "df=pd.read_csv('nyc_taxi_trip_duration.csv')"
   ]
  },
  {
   "cell_type": "code",
   "execution_count": 3,
   "metadata": {},
   "outputs": [
    {
     "data": {
      "text/plain": [
       "(729322, 11)"
      ]
     },
     "execution_count": 3,
     "metadata": {},
     "output_type": "execute_result"
    }
   ],
   "source": [
    "df.shape"
   ]
  },
  {
   "cell_type": "code",
   "execution_count": 4,
   "metadata": {},
   "outputs": [
    {
     "data": {
      "text/html": [
       "<div>\n",
       "<style scoped>\n",
       "    .dataframe tbody tr th:only-of-type {\n",
       "        vertical-align: middle;\n",
       "    }\n",
       "\n",
       "    .dataframe tbody tr th {\n",
       "        vertical-align: top;\n",
       "    }\n",
       "\n",
       "    .dataframe thead th {\n",
       "        text-align: right;\n",
       "    }\n",
       "</style>\n",
       "<table border=\"1\" class=\"dataframe\">\n",
       "  <thead>\n",
       "    <tr style=\"text-align: right;\">\n",
       "      <th></th>\n",
       "      <th>id</th>\n",
       "      <th>vendor_id</th>\n",
       "      <th>pickup_datetime</th>\n",
       "      <th>dropoff_datetime</th>\n",
       "      <th>passenger_count</th>\n",
       "      <th>pickup_longitude</th>\n",
       "      <th>pickup_latitude</th>\n",
       "      <th>dropoff_longitude</th>\n",
       "      <th>dropoff_latitude</th>\n",
       "      <th>store_and_fwd_flag</th>\n",
       "      <th>trip_duration</th>\n",
       "    </tr>\n",
       "  </thead>\n",
       "  <tbody>\n",
       "    <tr>\n",
       "      <th>0</th>\n",
       "      <td>id1080784</td>\n",
       "      <td>2</td>\n",
       "      <td>2016-02-29 16:40:21</td>\n",
       "      <td>2016-02-29 16:47:01</td>\n",
       "      <td>1</td>\n",
       "      <td>-73.953918</td>\n",
       "      <td>40.778873</td>\n",
       "      <td>-73.963875</td>\n",
       "      <td>40.771164</td>\n",
       "      <td>N</td>\n",
       "      <td>400</td>\n",
       "    </tr>\n",
       "    <tr>\n",
       "      <th>1</th>\n",
       "      <td>id0889885</td>\n",
       "      <td>1</td>\n",
       "      <td>2016-03-11 23:35:37</td>\n",
       "      <td>2016-03-11 23:53:57</td>\n",
       "      <td>2</td>\n",
       "      <td>-73.988312</td>\n",
       "      <td>40.731743</td>\n",
       "      <td>-73.994751</td>\n",
       "      <td>40.694931</td>\n",
       "      <td>N</td>\n",
       "      <td>1100</td>\n",
       "    </tr>\n",
       "    <tr>\n",
       "      <th>2</th>\n",
       "      <td>id0857912</td>\n",
       "      <td>2</td>\n",
       "      <td>2016-02-21 17:59:33</td>\n",
       "      <td>2016-02-21 18:26:48</td>\n",
       "      <td>2</td>\n",
       "      <td>-73.997314</td>\n",
       "      <td>40.721458</td>\n",
       "      <td>-73.948029</td>\n",
       "      <td>40.774918</td>\n",
       "      <td>N</td>\n",
       "      <td>1635</td>\n",
       "    </tr>\n",
       "    <tr>\n",
       "      <th>3</th>\n",
       "      <td>id3744273</td>\n",
       "      <td>2</td>\n",
       "      <td>2016-01-05 09:44:31</td>\n",
       "      <td>2016-01-05 10:03:32</td>\n",
       "      <td>6</td>\n",
       "      <td>-73.961670</td>\n",
       "      <td>40.759720</td>\n",
       "      <td>-73.956779</td>\n",
       "      <td>40.780628</td>\n",
       "      <td>N</td>\n",
       "      <td>1141</td>\n",
       "    </tr>\n",
       "    <tr>\n",
       "      <th>4</th>\n",
       "      <td>id0232939</td>\n",
       "      <td>1</td>\n",
       "      <td>2016-02-17 06:42:23</td>\n",
       "      <td>2016-02-17 06:56:31</td>\n",
       "      <td>1</td>\n",
       "      <td>-74.017120</td>\n",
       "      <td>40.708469</td>\n",
       "      <td>-73.988182</td>\n",
       "      <td>40.740631</td>\n",
       "      <td>N</td>\n",
       "      <td>848</td>\n",
       "    </tr>\n",
       "  </tbody>\n",
       "</table>\n",
       "</div>"
      ],
      "text/plain": [
       "          id  vendor_id      pickup_datetime     dropoff_datetime  \\\n",
       "0  id1080784          2  2016-02-29 16:40:21  2016-02-29 16:47:01   \n",
       "1  id0889885          1  2016-03-11 23:35:37  2016-03-11 23:53:57   \n",
       "2  id0857912          2  2016-02-21 17:59:33  2016-02-21 18:26:48   \n",
       "3  id3744273          2  2016-01-05 09:44:31  2016-01-05 10:03:32   \n",
       "4  id0232939          1  2016-02-17 06:42:23  2016-02-17 06:56:31   \n",
       "\n",
       "   passenger_count  pickup_longitude  pickup_latitude  dropoff_longitude  \\\n",
       "0                1        -73.953918        40.778873         -73.963875   \n",
       "1                2        -73.988312        40.731743         -73.994751   \n",
       "2                2        -73.997314        40.721458         -73.948029   \n",
       "3                6        -73.961670        40.759720         -73.956779   \n",
       "4                1        -74.017120        40.708469         -73.988182   \n",
       "\n",
       "   dropoff_latitude store_and_fwd_flag  trip_duration  \n",
       "0         40.771164                  N            400  \n",
       "1         40.694931                  N           1100  \n",
       "2         40.774918                  N           1635  \n",
       "3         40.780628                  N           1141  \n",
       "4         40.740631                  N            848  "
      ]
     },
     "execution_count": 4,
     "metadata": {},
     "output_type": "execute_result"
    }
   ],
   "source": [
    "df.head()"
   ]
  },
  {
   "cell_type": "code",
   "execution_count": 5,
   "metadata": {},
   "outputs": [
    {
     "data": {
      "text/plain": [
       "id                    0\n",
       "vendor_id             0\n",
       "pickup_datetime       0\n",
       "dropoff_datetime      0\n",
       "passenger_count       0\n",
       "pickup_longitude      0\n",
       "pickup_latitude       0\n",
       "dropoff_longitude     0\n",
       "dropoff_latitude      0\n",
       "store_and_fwd_flag    0\n",
       "trip_duration         0\n",
       "dtype: int64"
      ]
     },
     "execution_count": 5,
     "metadata": {},
     "output_type": "execute_result"
    }
   ],
   "source": [
    "df.isna().sum()"
   ]
  },
  {
   "cell_type": "markdown",
   "metadata": {},
   "source": [
    "* No missing values."
   ]
  },
  {
   "cell_type": "code",
   "execution_count": 6,
   "metadata": {},
   "outputs": [
    {
     "data": {
      "text/plain": [
       "id                     object\n",
       "vendor_id               int64\n",
       "pickup_datetime        object\n",
       "dropoff_datetime       object\n",
       "passenger_count         int64\n",
       "pickup_longitude      float64\n",
       "pickup_latitude       float64\n",
       "dropoff_longitude     float64\n",
       "dropoff_latitude      float64\n",
       "store_and_fwd_flag     object\n",
       "trip_duration           int64\n",
       "dtype: object"
      ]
     },
     "execution_count": 6,
     "metadata": {},
     "output_type": "execute_result"
    }
   ],
   "source": [
    "df.dtypes"
   ]
  },
  {
   "cell_type": "code",
   "execution_count": 7,
   "metadata": {},
   "outputs": [],
   "source": [
    "df['pickup_datetime']=pd.to_datetime(df['pickup_datetime'])\n",
    "df['dropoff_datetime']=pd.to_datetime(df['dropoff_datetime'])"
   ]
  },
  {
   "cell_type": "code",
   "execution_count": 8,
   "metadata": {},
   "outputs": [],
   "source": [
    "df['pickup_dayofweek']=df['pickup_datetime'].dt.dayofweek\n",
    "df['pickup_hour']=df['pickup_datetime'].dt.hour\n",
    "df['pickup_month']=df['pickup_datetime'].dt.month\n",
    "df['pickup_dayofmonth']=df['pickup_datetime'].dt.day"
   ]
  },
  {
   "cell_type": "code",
   "execution_count": 9,
   "metadata": {},
   "outputs": [],
   "source": [
    "#Let's derive distance of trip\n",
    "import haversine\n",
    "\n",
    "#haversine.haversine((-73.953918,40.778873),(73.963875,40.771164), unit=haversine.Unit.METERS)\n",
    "df['distance']=df.apply(lambda x: haversine.haversine((x['pickup_longitude'],x['pickup_latitude']),(x['dropoff_longitude'],x['dropoff_latitude'])), axis=1)"
   ]
  },
  {
   "cell_type": "code",
   "execution_count": 10,
   "metadata": {},
   "outputs": [],
   "source": [
    "df.drop(['id','pickup_longitude','pickup_latitude','dropoff_longitude','dropoff_latitude','pickup_datetime','dropoff_datetime'], axis=1, inplace=True)"
   ]
  },
  {
   "cell_type": "code",
   "execution_count": 11,
   "metadata": {},
   "outputs": [
    {
     "data": {
      "text/plain": [
       "Index(['vendor_id', 'passenger_count', 'store_and_fwd_flag', 'trip_duration',\n",
       "       'pickup_dayofweek', 'pickup_hour', 'pickup_month', 'pickup_dayofmonth',\n",
       "       'distance'],\n",
       "      dtype='object')"
      ]
     },
     "execution_count": 11,
     "metadata": {},
     "output_type": "execute_result"
    }
   ],
   "source": [
    "df.columns"
   ]
  },
  {
   "cell_type": "code",
   "execution_count": 12,
   "metadata": {},
   "outputs": [
    {
     "data": {
      "text/plain": [
       "(2491.0, 1, 1939736)"
      ]
     },
     "execution_count": 12,
     "metadata": {},
     "output_type": "execute_result"
    }
   ],
   "source": [
    "df.trip_duration.quantile(.97), df.trip_duration.min(), df.trip_duration.max()"
   ]
  },
  {
   "cell_type": "code",
   "execution_count": 13,
   "metadata": {},
   "outputs": [
    {
     "data": {
      "text/plain": [
       "(22.53550477057342, 0.0, 662.8145584924454)"
      ]
     },
     "execution_count": 13,
     "metadata": {},
     "output_type": "execute_result"
    }
   ],
   "source": [
    "df.distance.quantile(.99), df.distance.min(), df.distance.max()"
   ]
  },
  {
   "cell_type": "markdown",
   "metadata": {},
   "source": [
    "* there are outlier values which can be dropped"
   ]
  },
  {
   "cell_type": "code",
   "execution_count": 14,
   "metadata": {},
   "outputs": [],
   "source": [
    "df.drop(df[(df.trip_duration < 20)|(df.trip_duration > 2500)].index, axis=0, inplace=True)"
   ]
  },
  {
   "cell_type": "code",
   "execution_count": 15,
   "metadata": {},
   "outputs": [],
   "source": [
    "df.drop(df[(df.distance==0) | (df.distance>20)].index,axis=0, inplace=True)"
   ]
  },
  {
   "cell_type": "code",
   "execution_count": 16,
   "metadata": {},
   "outputs": [
    {
     "data": {
      "text/plain": [
       "<AxesSubplot:xlabel='pickup_hour', ylabel='trip_duration'>"
      ]
     },
     "execution_count": 16,
     "metadata": {},
     "output_type": "execute_result"
    },
    {
     "data": {
      "image/png": "[encoded data removed]",
      "text/plain": [
       "<Figure size 432x288 with 1 Axes>"
      ]
     },
     "metadata": {
      "needs_background": "light"
     },
     "output_type": "display_data"
    }
   ],
   "source": [
    "sns.boxplot(data=df, x='pickup_hour',y='trip_duration')"
   ]
  },
  {
   "cell_type": "markdown",
   "metadata": {},
   "source": [
    "* Let's create time windows as the variation is not significat across every year"
   ]
  },
  {
   "cell_type": "code",
   "execution_count": 16,
   "metadata": {},
   "outputs": [
    {
     "data": {
      "text/html": [
       "<div>\n",
       "<style scoped>\n",
       "    .dataframe tbody tr th:only-of-type {\n",
       "        vertical-align: middle;\n",
       "    }\n",
       "\n",
       "    .dataframe tbody tr th {\n",
       "        vertical-align: top;\n",
       "    }\n",
       "\n",
       "    .dataframe thead th {\n",
       "        text-align: right;\n",
       "    }\n",
       "</style>\n",
       "<table border=\"1\" class=\"dataframe\">\n",
       "  <thead>\n",
       "    <tr style=\"text-align: right;\">\n",
       "      <th></th>\n",
       "      <th>vendor_id</th>\n",
       "      <th>passenger_count</th>\n",
       "      <th>store_and_fwd_flag</th>\n",
       "      <th>trip_duration</th>\n",
       "      <th>pickup_dayofweek</th>\n",
       "      <th>pickup_hour</th>\n",
       "      <th>pickup_month</th>\n",
       "      <th>pickup_dayofmonth</th>\n",
       "      <th>distance</th>\n",
       "      <th>window</th>\n",
       "    </tr>\n",
       "  </thead>\n",
       "  <tbody>\n",
       "    <tr>\n",
       "      <th>0</th>\n",
       "      <td>2</td>\n",
       "      <td>1</td>\n",
       "      <td>N</td>\n",
       "      <td>400</td>\n",
       "      <td>0</td>\n",
       "      <td>16</td>\n",
       "      <td>2</td>\n",
       "      <td>29</td>\n",
       "      <td>1.132157</td>\n",
       "      <td>busy</td>\n",
       "    </tr>\n",
       "    <tr>\n",
       "      <th>1</th>\n",
       "      <td>1</td>\n",
       "      <td>2</td>\n",
       "      <td>N</td>\n",
       "      <td>1100</td>\n",
       "      <td>4</td>\n",
       "      <td>23</td>\n",
       "      <td>3</td>\n",
       "      <td>11</td>\n",
       "      <td>1.336773</td>\n",
       "      <td>non-busy</td>\n",
       "    </tr>\n",
       "    <tr>\n",
       "      <th>2</th>\n",
       "      <td>2</td>\n",
       "      <td>2</td>\n",
       "      <td>N</td>\n",
       "      <td>1635</td>\n",
       "      <td>6</td>\n",
       "      <td>17</td>\n",
       "      <td>2</td>\n",
       "      <td>21</td>\n",
       "      <td>5.720824</td>\n",
       "      <td>busy</td>\n",
       "    </tr>\n",
       "    <tr>\n",
       "      <th>3</th>\n",
       "      <td>2</td>\n",
       "      <td>6</td>\n",
       "      <td>N</td>\n",
       "      <td>1141</td>\n",
       "      <td>1</td>\n",
       "      <td>9</td>\n",
       "      <td>1</td>\n",
       "      <td>5</td>\n",
       "      <td>0.841675</td>\n",
       "      <td>busy</td>\n",
       "    </tr>\n",
       "    <tr>\n",
       "      <th>4</th>\n",
       "      <td>1</td>\n",
       "      <td>1</td>\n",
       "      <td>N</td>\n",
       "      <td>848</td>\n",
       "      <td>2</td>\n",
       "      <td>6</td>\n",
       "      <td>2</td>\n",
       "      <td>17</td>\n",
       "      <td>3.365350</td>\n",
       "      <td>non-busy</td>\n",
       "    </tr>\n",
       "  </tbody>\n",
       "</table>\n",
       "</div>"
      ],
      "text/plain": [
       "   vendor_id  passenger_count store_and_fwd_flag  trip_duration  \\\n",
       "0          2                1                  N            400   \n",
       "1          1                2                  N           1100   \n",
       "2          2                2                  N           1635   \n",
       "3          2                6                  N           1141   \n",
       "4          1                1                  N            848   \n",
       "\n",
       "   pickup_dayofweek  pickup_hour  pickup_month  pickup_dayofmonth  distance  \\\n",
       "0                 0           16             2                 29  1.132157   \n",
       "1                 4           23             3                 11  1.336773   \n",
       "2                 6           17             2                 21  5.720824   \n",
       "3                 1            9             1                  5  0.841675   \n",
       "4                 2            6             2                 17  3.365350   \n",
       "\n",
       "     window  \n",
       "0      busy  \n",
       "1  non-busy  \n",
       "2      busy  \n",
       "3      busy  \n",
       "4  non-busy  "
      ]
     },
     "execution_count": 16,
     "metadata": {},
     "output_type": "execute_result"
    }
   ],
   "source": [
    "df['window']=pd.cut(df['pickup_hour'],[0,8,18,23], labels=['non-busy','busy','non-busy'],ordered=False)\n",
    "df.head()"
   ]
  },
  {
   "cell_type": "code",
   "execution_count": 18,
   "metadata": {},
   "outputs": [
    {
     "data": {
      "text/plain": [
       "<AxesSubplot:xlabel='pickup_dayofweek', ylabel='trip_duration'>"
      ]
     },
     "execution_count": 18,
     "metadata": {},
     "output_type": "execute_result"
    },
    {
     "data": {
      "image/png": "[encoded data removed]",
      "text/plain": [
       "<Figure size 432x288 with 1 Axes>"
      ]
     },
     "metadata": {
      "needs_background": "light"
     },
     "output_type": "display_data"
    }
   ],
   "source": [
    "sns.boxplot(data=df, x='pickup_dayofweek',y='trip_duration')"
   ]
  },
  {
   "cell_type": "markdown",
   "metadata": {},
   "source": [
    "* let's divide day of week into on and off based on average trip duration"
   ]
  },
  {
   "cell_type": "code",
   "execution_count": 17,
   "metadata": {},
   "outputs": [],
   "source": [
    "df['typeofday']=df['pickup_dayofweek'].map({0:'off',1:'on',2:'on',3:'on',4:'on',5:'off',6:'off'})"
   ]
  },
  {
   "cell_type": "code",
   "execution_count": 18,
   "metadata": {},
   "outputs": [],
   "source": [
    "# Let's drop hour and dayofweek as we have created a separate column to depict this info\n",
    "df.drop(['pickup_hour','pickup_dayofweek'], axis=1, inplace=True)"
   ]
  },
  {
   "cell_type": "code",
   "execution_count": 21,
   "metadata": {},
   "outputs": [
    {
     "data": {
      "text/plain": [
       "<AxesSubplot:xlabel='distance', ylabel='Density'>"
      ]
     },
     "execution_count": 21,
     "metadata": {},
     "output_type": "execute_result"
    },
    {
     "data": {
      "image/png": "[encoded data removed]",
      "text/plain": [
       "<Figure size 432x288 with 1 Axes>"
      ]
     },
     "metadata": {
      "needs_background": "light"
     },
     "output_type": "display_data"
    }
   ],
   "source": [
    "sns.kdeplot(data=df['distance'])"
   ]
  },
  {
   "cell_type": "code",
   "execution_count": 22,
   "metadata": {},
   "outputs": [
    {
     "data": {
      "text/plain": [
       "<AxesSubplot:xlabel='trip_duration', ylabel='Density'>"
      ]
     },
     "execution_count": 22,
     "metadata": {},
     "output_type": "execute_result"
    },
    {
     "data": {
      "image/png": "[encoded data removed]",
      "text/plain": [
       "<Figure size 432x288 with 1 Axes>"
      ]
     },
     "metadata": {
      "needs_background": "light"
     },
     "output_type": "display_data"
    }
   ],
   "source": [
    "sns.kdeplot(data=df['trip_duration'])"
   ]
  },
  {
   "cell_type": "markdown",
   "metadata": {},
   "source": [
    "* Both trip_duration and Distance are normally distributed (slightly right skewed)"
   ]
  },
  {
   "cell_type": "markdown",
   "metadata": {},
   "source": [
    "## Pre-processing and Model building"
   ]
  },
  {
   "cell_type": "code",
   "execution_count": 19,
   "metadata": {},
   "outputs": [],
   "source": [
    "from sklearn.model_selection import train_test_split\n",
    "from sklearn.metrics import mean_absolute_error\n",
    "from sklearn.metrics import mean_squared_error as mse"
   ]
  },
  {
   "cell_type": "code",
   "execution_count": 20,
   "metadata": {},
   "outputs": [],
   "source": [
    "df_bkp=df\n",
    "# Let's get categorical variables encoded\n",
    "df=pd.get_dummies(df,columns=['vendor_id','passenger_count','store_and_fwd_flag','typeofday','window','pickup_month','pickup_dayofmonth'])"
   ]
  },
  {
   "cell_type": "code",
   "execution_count": 21,
   "metadata": {},
   "outputs": [
    {
     "data": {
      "text/plain": [
       "Index(['trip_duration', 'distance', 'vendor_id_1', 'vendor_id_2',\n",
       "       'passenger_count_0', 'passenger_count_1', 'passenger_count_2',\n",
       "       'passenger_count_3', 'passenger_count_4', 'passenger_count_5',\n",
       "       'passenger_count_6', 'store_and_fwd_flag_N', 'store_and_fwd_flag_Y',\n",
       "       'typeofday_off', 'typeofday_on', 'window_busy', 'window_non-busy',\n",
       "       'pickup_month_1', 'pickup_month_2', 'pickup_month_3', 'pickup_month_4',\n",
       "       'pickup_month_5', 'pickup_month_6', 'pickup_dayofmonth_1',\n",
       "       'pickup_dayofmonth_2', 'pickup_dayofmonth_3', 'pickup_dayofmonth_4',\n",
       "       'pickup_dayofmonth_5', 'pickup_dayofmonth_6', 'pickup_dayofmonth_7',\n",
       "       'pickup_dayofmonth_8', 'pickup_dayofmonth_9', 'pickup_dayofmonth_10',\n",
       "       'pickup_dayofmonth_11', 'pickup_dayofmonth_12', 'pickup_dayofmonth_13',\n",
       "       'pickup_dayofmonth_14', 'pickup_dayofmonth_15', 'pickup_dayofmonth_16',\n",
       "       'pickup_dayofmonth_17', 'pickup_dayofmonth_18', 'pickup_dayofmonth_19',\n",
       "       'pickup_dayofmonth_20', 'pickup_dayofmonth_21', 'pickup_dayofmonth_22',\n",
       "       'pickup_dayofmonth_23', 'pickup_dayofmonth_24', 'pickup_dayofmonth_25',\n",
       "       'pickup_dayofmonth_26', 'pickup_dayofmonth_27', 'pickup_dayofmonth_28',\n",
       "       'pickup_dayofmonth_29', 'pickup_dayofmonth_30', 'pickup_dayofmonth_31'],\n",
       "      dtype='object')"
      ]
     },
     "execution_count": 21,
     "metadata": {},
     "output_type": "execute_result"
    }
   ],
   "source": [
    "df.columns"
   ]
  },
  {
   "cell_type": "code",
   "execution_count": 22,
   "metadata": {},
   "outputs": [],
   "source": [
    "x=df.drop('trip_duration',axis=1)\n",
    "y=df['trip_duration']"
   ]
  },
  {
   "cell_type": "code",
   "execution_count": 23,
   "metadata": {},
   "outputs": [
    {
     "name": "stdout",
     "output_type": "stream",
     "text": [
      "(487650, 53) (487650,) (208993, 53) (208993,)\n",
      "(243825, 53) (243825,) (243825, 53) (243825,)\n"
     ]
    }
   ],
   "source": [
    "x_train,x_test, y_train,y_test=train_test_split(x,y,test_size=.3, random_state=48)\n",
    "print(x_train.shape, y_train.shape, x_test.shape, y_test.shape)\n",
    "x_train2,x_test2, y_train2, y_test2=train_test_split(x_train, y_train, test_size=.5, random_state=50)\n",
    "print(x_train2.shape, y_train2.shape, x_test2.shape, y_test2.shape)"
   ]
  },
  {
   "cell_type": "code",
   "execution_count": 28,
   "metadata": {},
   "outputs": [
    {
     "name": "stdout",
     "output_type": "stream",
     "text": [
      "Train score:  373.05703665274063   Test score:  372.46951186443806\n"
     ]
    }
   ],
   "source": [
    "from sklearn.linear_model import LinearRegression as LR\n",
    "from sklearn.metrics import root as mse\n",
    "\n",
    "modelLR=LR(normalize=True)\n",
    "modelLR.fit(x_train2,y_train2)\n",
    "train_pred=modelLR.predict(x_train2)\n",
    "test_pred=modelLR.predict(x_test2)\n",
    "train_score=np.sqrt(mse(train_pred, y_train2))\n",
    "test_score=np.sqrt(mse(test_pred, y_test2))\n",
    "print('Train score: ', train_score, '  Test score: ', test_score)"
   ]
  },
  {
   "cell_type": "code",
   "execution_count": 29,
   "metadata": {},
   "outputs": [
    {
     "name": "stderr",
     "output_type": "stream",
     "text": [
      "c:\\users\\owner\\appdata\\local\\programs\\python\\python38-32\\lib\\site-packages\\seaborn\\_decorators.py:36: FutureWarning: Pass the following variables as keyword args: x, y. From version 0.12, the only valid positional argument will be `data`, and passing other arguments without an explicit keyword will result in an error or misinterpretation.\n",
      "  warnings.warn(\n"
     ]
    },
    {
     "data": {
      "text/plain": [
       "<AxesSubplot:xlabel='Features', ylabel='coef'>"
      ]
     },
     "execution_count": 29,
     "metadata": {},
     "output_type": "execute_result"
    },
    {
     "data": {
      "image/png": "[encoded data removed]",
      "text/plain": [
       "<Figure size 432x288 with 1 Axes>"
      ]
     },
     "metadata": {
      "needs_background": "light"
     },
     "output_type": "display_data"
    }
   ],
   "source": [
    "cf=pd.DataFrame({'Features':x.columns, 'coef':modelLR.coef_})\n",
    "sns.barplot(cf['Features'],cf['coef'])"
   ]
  },
  {
   "cell_type": "code",
   "execution_count": 30,
   "metadata": {},
   "outputs": [
    {
     "data": {
      "text/plain": [
       "0                 distance\n",
       "1              vendor_id_1\n",
       "2              vendor_id_2\n",
       "3        passenger_count_0\n",
       "4        passenger_count_1\n",
       "5        passenger_count_2\n",
       "6        passenger_count_3\n",
       "7        passenger_count_4\n",
       "8        passenger_count_5\n",
       "9        passenger_count_6\n",
       "10    store_and_fwd_flag_N\n",
       "11    store_and_fwd_flag_Y\n",
       "12           typeofday_off\n",
       "13            typeofday_on\n",
       "14             window_busy\n",
       "22     pickup_dayofmonth_1\n",
       "23     pickup_dayofmonth_2\n",
       "24     pickup_dayofmonth_3\n",
       "25     pickup_dayofmonth_4\n",
       "26     pickup_dayofmonth_5\n",
       "27     pickup_dayofmonth_6\n",
       "28     pickup_dayofmonth_7\n",
       "29     pickup_dayofmonth_8\n",
       "30     pickup_dayofmonth_9\n",
       "31    pickup_dayofmonth_10\n",
       "32    pickup_dayofmonth_11\n",
       "33    pickup_dayofmonth_12\n",
       "34    pickup_dayofmonth_13\n",
       "35    pickup_dayofmonth_14\n",
       "36    pickup_dayofmonth_15\n",
       "37    pickup_dayofmonth_16\n",
       "38    pickup_dayofmonth_17\n",
       "39    pickup_dayofmonth_18\n",
       "40    pickup_dayofmonth_19\n",
       "41    pickup_dayofmonth_20\n",
       "42    pickup_dayofmonth_21\n",
       "43    pickup_dayofmonth_22\n",
       "44    pickup_dayofmonth_23\n",
       "45    pickup_dayofmonth_24\n",
       "46    pickup_dayofmonth_25\n",
       "47    pickup_dayofmonth_26\n",
       "48    pickup_dayofmonth_27\n",
       "49    pickup_dayofmonth_28\n",
       "50    pickup_dayofmonth_29\n",
       "51    pickup_dayofmonth_30\n",
       "52    pickup_dayofmonth_31\n",
       "Name: Features, dtype: object"
      ]
     },
     "execution_count": 30,
     "metadata": {},
     "output_type": "execute_result"
    }
   ],
   "source": [
    "sig_vars=cf.loc[cf.coef>= .5, 'Features']\n",
    "sig_vars"
   ]
  },
  {
   "cell_type": "code",
   "execution_count": 31,
   "metadata": {},
   "outputs": [],
   "source": [
    "x_train2=x_train2[sig_vars]\n",
    "x_train=x_train[sig_vars]\n",
    "x_test2=x_test2[sig_vars]\n",
    "x_test=x_test[sig_vars]"
   ]
  },
  {
   "cell_type": "code",
   "execution_count": 34,
   "metadata": {},
   "outputs": [
    {
     "name": "stdout",
     "output_type": "stream",
     "text": [
      "Train score:  373.87491131490077   Test score:  373.26684919365925\n"
     ]
    }
   ],
   "source": [
    "modelLR=LR(normalize=True)\n",
    "modelLR.fit(x_train2,y_train2)\n",
    "train_pred=modelLR.predict(x_train2)\n",
    "test_pred=modelLR.predict(x_test2)\n",
    "train_score=mse(train_pred, y_train2)\n",
    "test_score=mse(test_pred, y_test2)\n",
    "print('Train score: ', np.sqrt(train_score), '  Test score: ', np.sqrt(test_score))"
   ]
  },
  {
   "cell_type": "code",
   "execution_count": 35,
   "metadata": {},
   "outputs": [],
   "source": [
    "residuals=pd.DataFrame({'Actual':y_test2, 'Predicted':test_pred,})\n",
    "residuals['residual']=residuals['Actual']-residuals['Predicted']"
   ]
  },
  {
   "cell_type": "code",
   "execution_count": 36,
   "metadata": {},
   "outputs": [
    {
     "data": {
      "text/plain": [
       "(-500.0, 500.0)"
      ]
     },
     "execution_count": 36,
     "metadata": {},
     "output_type": "execute_result"
    },
    {
     "data": {
      "image/png": "[encoded data removed]",
      "text/plain": [
       "<Figure size 432x288 with 1 Axes>"
      ]
     },
     "metadata": {
      "needs_background": "light"
     },
     "output_type": "display_data"
    }
   ],
   "source": [
    "plt.scatter(y=residuals['residual'].iloc[0:2000], x=range(0,2000))\n",
    "plt.ylim(-500,500)"
   ]
  },
  {
   "cell_type": "markdown",
   "metadata": {},
   "source": [
    "* There is pattern and relation within residuals"
   ]
  },
  {
   "cell_type": "code",
   "execution_count": 37,
   "metadata": {},
   "outputs": [
    {
     "data": {
      "text/plain": [
       "(array([2.0000e+00, 0.0000e+00, 0.0000e+00, 0.0000e+00, 2.0000e+00,\n",
       "        1.0000e+00, 2.0000e+00, 3.0000e+00, 1.1000e+01, 2.0000e+01,\n",
       "        2.2000e+01, 3.1000e+01, 7.5000e+01, 1.4100e+02, 2.1700e+02,\n",
       "        3.1100e+02, 4.5800e+02, 6.1600e+02, 8.3400e+02, 2.5320e+03,\n",
       "        8.5270e+03, 1.8627e+04, 2.7464e+04, 3.0064e+04, 2.8007e+04,\n",
       "        2.4309e+04, 2.0197e+04, 1.6511e+04, 1.3422e+04, 1.0828e+04,\n",
       "        8.7520e+03, 6.9240e+03, 5.5430e+03, 4.3950e+03, 3.4170e+03,\n",
       "        2.6830e+03, 2.1110e+03, 1.7060e+03, 1.3590e+03, 1.0500e+03,\n",
       "        7.7200e+02, 6.4500e+02, 4.6100e+02, 3.1900e+02, 2.1300e+02,\n",
       "        1.3300e+02, 7.6000e+01, 2.1000e+01, 7.0000e+00, 4.0000e+00]),\n",
       " array([-2205.25 , -2120.755, -2036.26 , -1951.765, -1867.27 , -1782.775,\n",
       "        -1698.28 , -1613.785, -1529.29 , -1444.795, -1360.3  , -1275.805,\n",
       "        -1191.31 , -1106.815, -1022.32 ,  -937.825,  -853.33 ,  -768.835,\n",
       "         -684.34 ,  -599.845,  -515.35 ,  -430.855,  -346.36 ,  -261.865,\n",
       "         -177.37 ,   -92.875,    -8.38 ,    76.115,   160.61 ,   245.105,\n",
       "          329.6  ,   414.095,   498.59 ,   583.085,   667.58 ,   752.075,\n",
       "          836.57 ,   921.065,  1005.56 ,  1090.055,  1174.55 ,  1259.045,\n",
       "         1343.54 ,  1428.035,  1512.53 ,  1597.025,  1681.52 ,  1766.015,\n",
       "         1850.51 ,  1935.005,  2019.5  ]),\n",
       " <BarContainer object of 50 artists>)"
      ]
     },
     "execution_count": 37,
     "metadata": {},
     "output_type": "execute_result"
    },
    {
     "data": {
      "image/png": "[encoded data removed]",
      "text/plain": [
       "<Figure size 432x288 with 1 Axes>"
      ]
     },
     "metadata": {
      "needs_background": "light"
     },
     "output_type": "display_data"
    }
   ],
   "source": [
    "plt.hist(residuals.residual,bins=50)"
   ]
  },
  {
   "cell_type": "markdown",
   "metadata": {},
   "source": [
    "* Residuals are normally distributed. So assumption holds true"
   ]
  },
  {
   "cell_type": "code",
   "execution_count": 38,
   "metadata": {},
   "outputs": [
    {
     "data": {
      "text/plain": [
       "<AxesSubplot:>"
      ]
     },
     "execution_count": 38,
     "metadata": {},
     "output_type": "execute_result"
    },
    {
     "data": {
      "image/png": "[encoded data removed]",
      "text/plain": [
       "<Figure size 432x288 with 2 Axes>"
      ]
     },
     "metadata": {
      "needs_background": "light"
     },
     "output_type": "display_data"
    }
   ],
   "source": [
    "sns.heatmap(x_test2.corr())"
   ]
  },
  {
   "cell_type": "markdown",
   "metadata": {},
   "source": [
    "* Heatmap shows there is no multicllinearity"
   ]
  },
  {
   "cell_type": "markdown",
   "metadata": {},
   "source": [
    "#### Linear Regression"
   ]
  },
  {
   "cell_type": "code",
   "execution_count": 39,
   "metadata": {},
   "outputs": [],
   "source": [
    "modelLR.fit(x_train2,y_train2)\n",
    "train_pred=modelLR.predict(x_train2)\n",
    "#test_pred=modelLR.predict(x_test)"
   ]
  },
  {
   "cell_type": "code",
   "execution_count": 41,
   "metadata": {},
   "outputs": [],
   "source": [
    "test_pred=modelLR.predict(x_test)\n",
    "train_score=np.sqrt(mse(t\n",
    "                        \n",
    "                        rain_pred,y_train2))\n",
    "test_score=np.sqrt(mse(test_pred,y_test))"
   ]
  },
  {
   "cell_type": "code",
   "execution_count": 42,
   "metadata": {},
   "outputs": [
    {
     "name": "stdout",
     "output_type": "stream",
     "text": [
      "Train score:  373.87491131490077  Test score:  375.51108900156004\n"
     ]
    }
   ],
   "source": [
    "print('Train score: ',train_score, ' Test score: ', test_score)"
   ]
  },
  {
   "cell_type": "markdown",
   "metadata": {},
   "source": [
    "#### Decision Tree"
   ]
  },
  {
   "cell_type": "code",
   "execution_count": 44,
   "metadata": {},
   "outputs": [
    {
     "name": "stdout",
     "output_type": "stream",
     "text": [
      "   Max_Depth  Train_Score  Test_Score\n",
      "0          5   343.369425  345.404630\n",
      "1          8   339.830214  342.809362\n",
      "2         10   338.135389  343.993998\n",
      "3         12   334.719071  347.251150\n",
      "4         15   325.777966  355.446777\n",
      "5         18   311.981388  368.018514\n",
      "6         20   300.723178  377.836295\n"
     ]
    }
   ],
   "source": [
    "from sklearn.tree import DecisionTreeRegressor as DT\n",
    "\n",
    "# Running model for different max depths to understand the best fit\n",
    "\n",
    "train_score=[]\n",
    "test_score=[]\n",
    "mx_dpth=[5, 8, 10, 12, 15, 18, 20]\n",
    "for i in mx_dpth:\n",
    "    model=DT(random_state=30, max_depth=i)\n",
    "    model.fit(x_train, y_train)\n",
    "    train_pred=model.predict(x_train)\n",
    "    test_pred=model.predict(x_test)\n",
    "    train_score.append(np.sqrt(mse(train_pred,y_train)))\n",
    "    test_score.append(np.sqrt(mse(test_pred,y_test)))\n",
    "\n",
    "Scores={'Max_Depth':mx_dpth, 'Train_Score':train_score, 'Test_Score':test_score}\n",
    "print(pd.DataFrame(Scores))"
   ]
  },
  {
   "cell_type": "code",
   "execution_count": 49,
   "metadata": {},
   "outputs": [
    {
     "data": {
      "text/plain": [
       "[<matplotlib.lines.Line2D at 0x18422568>]"
      ]
     },
     "execution_count": 49,
     "metadata": {},
     "output_type": "execute_result"
    },
    {
     "data": {
      "image/png": "[encoded data removed]",
      "text/plain": [
       "<Figure size 432x288 with 1 Axes>"
      ]
     },
     "metadata": {
      "needs_background": "light"
     },
     "output_type": "display_data"
    }
   ],
   "source": [
    "plt.plot(mx_dpth, test_score)"
   ]
  },
  {
   "cell_type": "markdown",
   "metadata": {},
   "source": [
    "* As clearly seen the error follows elbow curve with increasing max depth parameter. We can say best performance is at Max depth 8"
   ]
  },
  {
   "cell_type": "markdown",
   "metadata": {},
   "source": [
    "#### Gradient Boosting"
   ]
  },
  {
   "cell_type": "code",
   "execution_count": 27,
   "metadata": {},
   "outputs": [
    {
     "name": "stdout",
     "output_type": "stream",
     "text": [
      "259.6760118451123   349.9438459507065\n"
     ]
    }
   ],
   "source": [
    "from sklearn.ensemble import GradientBoostingRegressor as GB\n",
    "\n",
    "model=GB(alpha=.001, n_estimators=35, max_depth=18)\n",
    "model.fit(x_train, y_train)\n",
    "train_pred=model.predict(x_train)\n",
    "test_pred=model.predict(x_test)\n",
    "train_score=np.sqrt(mse(train_pred, y_train))\n",
    "test_score=np.sqrt(mse(test_pred, y_test))\n",
    "print(train_score, ' ', test_score)"
   ]
  },
  {
   "cell_type": "markdown",
   "metadata": {},
   "source": [
    "* We can ideally play around with different hyper parameter values to get the best result"
   ]
  },
  {
   "cell_type": "code",
   "execution_count": null,
   "metadata": {},
   "outputs": [],
   "source": []
  }
 ],
 "metadata": {
  "kernelspec": {
   "display_name": "Python 3",
   "language": "python",
   "name": "python3"
  },
  "language_info": {
   "codemirror_mode": {
    "name": "ipython",
    "version": 3
   },
   "file_extension": ".py",
   "mimetype": "text/x-python",
   "name": "python",
   "nbconvert_exporter": "python",
   "pygments_lexer": "ipython3",
   "version": "3.8.3"
  }
 },
 "nbformat": 4,
 "nbformat_minor": 4
}

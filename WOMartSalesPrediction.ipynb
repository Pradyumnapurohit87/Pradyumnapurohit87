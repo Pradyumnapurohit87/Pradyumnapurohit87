{
 "cells": [
  {
   "cell_type": "markdown",
   "metadata": {},
   "source": [
    "# WO Mart sales prediction ML modelling"
   ]
  },
  {
   "cell_type": "code",
   "execution_count": 1,
   "metadata": {},
   "outputs": [],
   "source": [
    "import numpy as np\n",
    "import pandas as pd\n",
    "import matplotlib.pyplot as plt\n",
    "import warnings\n",
    "import seaborn as sns\n",
    "\n",
    "warnings.filterwarnings('always')\n",
    "warnings.filterwarnings('ignore')"
   ]
  },
  {
   "cell_type": "markdown",
   "metadata": {},
   "source": [
    "## Import Data"
   ]
  },
  {
   "cell_type": "code",
   "execution_count": 2,
   "metadata": {},
   "outputs": [],
   "source": [
    "train=pd.read_csv('TRAIN.csv')\n",
    "test=pd.read_csv('TEST_FINAL.csv')"
   ]
  },
  {
   "cell_type": "markdown",
   "metadata": {},
   "source": [
    "# EDA"
   ]
  },
  {
   "cell_type": "code",
   "execution_count": 3,
   "metadata": {},
   "outputs": [
    {
     "data": {
      "text/plain": [
       "((188340, 10), (22265, 8))"
      ]
     },
     "execution_count": 3,
     "metadata": {},
     "output_type": "execute_result"
    }
   ],
   "source": [
    "train.shape, test.shape"
   ]
  },
  {
   "cell_type": "code",
   "execution_count": 4,
   "metadata": {},
   "outputs": [
    {
     "data": {
      "text/plain": [
       "(ID               0\n",
       " Store_id         0\n",
       " Store_Type       0\n",
       " Location_Type    0\n",
       " Region_Code      0\n",
       " Date             0\n",
       " Holiday          0\n",
       " Discount         0\n",
       " #Order           0\n",
       " Sales            0\n",
       " dtype: int64,\n",
       " ID               0\n",
       " Store_id         0\n",
       " Store_Type       0\n",
       " Location_Type    0\n",
       " Region_Code      0\n",
       " Date             0\n",
       " Holiday          0\n",
       " Discount         0\n",
       " dtype: int64)"
      ]
     },
     "execution_count": 4,
     "metadata": {},
     "output_type": "execute_result"
    }
   ],
   "source": [
    "train.isnull().sum(), test.isnull().sum()"
   ]
  },
  {
   "cell_type": "markdown",
   "metadata": {},
   "source": [
    "* No missing values"
   ]
  },
  {
   "cell_type": "code",
   "execution_count": 5,
   "metadata": {},
   "outputs": [
    {
     "data": {
      "text/plain": [
       "ID                object\n",
       "Store_id           int64\n",
       "Store_Type        object\n",
       "Location_Type     object\n",
       "Region_Code       object\n",
       "Date              object\n",
       "Holiday            int64\n",
       "Discount          object\n",
       "#Order             int64\n",
       "Sales            float64\n",
       "dtype: object"
      ]
     },
     "execution_count": 5,
     "metadata": {},
     "output_type": "execute_result"
    }
   ],
   "source": [
    "train.dtypes"
   ]
  },
  {
   "cell_type": "code",
   "execution_count": 6,
   "metadata": {},
   "outputs": [],
   "source": [
    "#Let's drop #Order column from train data as it's not available in test data\n",
    "train.drop('#Order', axis=1,inplace=True)"
   ]
  },
  {
   "cell_type": "code",
   "execution_count": 7,
   "metadata": {},
   "outputs": [],
   "source": [
    "#Let's convert object type categorical variables to type 'Category'\n",
    "var=['Store_Type','Location_Type','Region_Code','Discount']\n",
    "for i in var:\n",
    "    train[i]=train[i].astype('category')\n",
    "    test[i]=test[i].astype('category')"
   ]
  },
  {
   "cell_type": "code",
   "execution_count": 8,
   "metadata": {},
   "outputs": [
    {
     "data": {
      "text/html": [
       "<div>\n",
       "<style scoped>\n",
       "    .dataframe tbody tr th:only-of-type {\n",
       "        vertical-align: middle;\n",
       "    }\n",
       "\n",
       "    .dataframe tbody tr th {\n",
       "        vertical-align: top;\n",
       "    }\n",
       "\n",
       "    .dataframe thead th {\n",
       "        text-align: right;\n",
       "    }\n",
       "</style>\n",
       "<table border=\"1\" class=\"dataframe\">\n",
       "  <thead>\n",
       "    <tr style=\"text-align: right;\">\n",
       "      <th></th>\n",
       "      <th>ID</th>\n",
       "      <th>Store_id</th>\n",
       "      <th>Store_Type</th>\n",
       "      <th>Location_Type</th>\n",
       "      <th>Region_Code</th>\n",
       "      <th>Date</th>\n",
       "      <th>Holiday</th>\n",
       "      <th>Discount</th>\n",
       "      <th>Sales</th>\n",
       "    </tr>\n",
       "  </thead>\n",
       "  <tbody>\n",
       "    <tr>\n",
       "      <th>0</th>\n",
       "      <td>T1000001</td>\n",
       "      <td>1</td>\n",
       "      <td>S1</td>\n",
       "      <td>L3</td>\n",
       "      <td>R1</td>\n",
       "      <td>2018-01-01</td>\n",
       "      <td>1</td>\n",
       "      <td>Yes</td>\n",
       "      <td>7011.84</td>\n",
       "    </tr>\n",
       "    <tr>\n",
       "      <th>1</th>\n",
       "      <td>T1000002</td>\n",
       "      <td>253</td>\n",
       "      <td>S4</td>\n",
       "      <td>L2</td>\n",
       "      <td>R1</td>\n",
       "      <td>2018-01-01</td>\n",
       "      <td>1</td>\n",
       "      <td>Yes</td>\n",
       "      <td>51789.12</td>\n",
       "    </tr>\n",
       "    <tr>\n",
       "      <th>2</th>\n",
       "      <td>T1000003</td>\n",
       "      <td>252</td>\n",
       "      <td>S3</td>\n",
       "      <td>L2</td>\n",
       "      <td>R1</td>\n",
       "      <td>2018-01-01</td>\n",
       "      <td>1</td>\n",
       "      <td>Yes</td>\n",
       "      <td>36868.20</td>\n",
       "    </tr>\n",
       "    <tr>\n",
       "      <th>3</th>\n",
       "      <td>T1000004</td>\n",
       "      <td>251</td>\n",
       "      <td>S2</td>\n",
       "      <td>L3</td>\n",
       "      <td>R1</td>\n",
       "      <td>2018-01-01</td>\n",
       "      <td>1</td>\n",
       "      <td>Yes</td>\n",
       "      <td>19715.16</td>\n",
       "    </tr>\n",
       "    <tr>\n",
       "      <th>4</th>\n",
       "      <td>T1000005</td>\n",
       "      <td>250</td>\n",
       "      <td>S2</td>\n",
       "      <td>L3</td>\n",
       "      <td>R4</td>\n",
       "      <td>2018-01-01</td>\n",
       "      <td>1</td>\n",
       "      <td>Yes</td>\n",
       "      <td>45614.52</td>\n",
       "    </tr>\n",
       "  </tbody>\n",
       "</table>\n",
       "</div>"
      ],
      "text/plain": [
       "         ID  Store_id Store_Type Location_Type Region_Code        Date  \\\n",
       "0  T1000001         1         S1            L3          R1  2018-01-01   \n",
       "1  T1000002       253         S4            L2          R1  2018-01-01   \n",
       "2  T1000003       252         S3            L2          R1  2018-01-01   \n",
       "3  T1000004       251         S2            L3          R1  2018-01-01   \n",
       "4  T1000005       250         S2            L3          R4  2018-01-01   \n",
       "\n",
       "   Holiday Discount     Sales  \n",
       "0        1      Yes   7011.84  \n",
       "1        1      Yes  51789.12  \n",
       "2        1      Yes  36868.20  \n",
       "3        1      Yes  19715.16  \n",
       "4        1      Yes  45614.52  "
      ]
     },
     "execution_count": 8,
     "metadata": {},
     "output_type": "execute_result"
    }
   ],
   "source": [
    "#Let's see sample data\n",
    "train.head()"
   ]
  },
  {
   "cell_type": "code",
   "execution_count": 9,
   "metadata": {},
   "outputs": [],
   "source": [
    "#Converting date field to type DateTime\n",
    "train['Date']=pd.to_datetime(train['Date'])\n",
    "test['Date']=pd.to_datetime(test['Date'])"
   ]
  },
  {
   "cell_type": "code",
   "execution_count": 10,
   "metadata": {},
   "outputs": [],
   "source": [
    "#Deriving different useful dimensions from Date field like Month, Day of week and day of month\n",
    "train['Month']=train['Date'].dt.month\n",
    "test['Month']=test['Date'].dt.month\n",
    "\n",
    "train['dayofmonth']=train['Date'].dt.day\n",
    "test['dayofmonth']=test['Date'].dt.day\n",
    "\n",
    "train['dayofweek']=train['Date'].dt.dayofweek\n",
    "test['dayofweek']=test['Date'].dt.dayofweek"
   ]
  },
  {
   "cell_type": "code",
   "execution_count": 11,
   "metadata": {},
   "outputs": [
    {
     "data": {
      "text/plain": [
       "0    188340\n",
       "Name: Date, dtype: int64"
      ]
     },
     "execution_count": 11,
     "metadata": {},
     "output_type": "execute_result"
    }
   ],
   "source": [
    "#Let's see if we have hour of day info available\n",
    "train['Date'].dt.hour.value_counts()"
   ]
  },
  {
   "cell_type": "markdown",
   "metadata": {},
   "source": [
    "* No hour info available as we see all values defaulting to zero"
   ]
  },
  {
   "cell_type": "code",
   "execution_count": 12,
   "metadata": {},
   "outputs": [
    {
     "data": {
      "text/plain": [
       "<AxesSubplot:xlabel='dayofweek'>"
      ]
     },
     "execution_count": 12,
     "metadata": {},
     "output_type": "execute_result"
    },
    {
     "data": {
      "image/png": "[encoded data removed]",
      "text/plain": [
       "<Figure size 432x288 with 1 Axes>"
      ]
     },
     "metadata": {
      "needs_background": "light"
     },
     "output_type": "display_data"
    }
   ],
   "source": [
    "train.pivot_table('Sales','dayofweek',aggfunc=['count','mean']).plot(kind='bar')"
   ]
  },
  {
   "cell_type": "markdown",
   "metadata": {},
   "source": [
    "* day of week seem to have an impact on Sales. Weekends (Saturday and Sunday) have a higher sales value"
   ]
  },
  {
   "cell_type": "code",
   "execution_count": 13,
   "metadata": {},
   "outputs": [
    {
     "data": {
      "text/plain": [
       "<AxesSubplot:xlabel='Month'>"
      ]
     },
     "execution_count": 13,
     "metadata": {},
     "output_type": "execute_result"
    },
    {
     "data": {
      "image/png": "[encoded data removed]",
      "text/plain": [
       "<Figure size 432x288 with 1 Axes>"
      ]
     },
     "metadata": {
      "needs_background": "light"
     },
     "output_type": "display_data"
    }
   ],
   "source": [
    "train.pivot_table('Sales','Month',aggfunc=['count','mean']).plot(kind='bar')"
   ]
  },
  {
   "cell_type": "markdown",
   "metadata": {},
   "source": [
    "* Month also has a bearing on Sales as we see average Sales vary across months"
   ]
  },
  {
   "cell_type": "code",
   "execution_count": 14,
   "metadata": {},
   "outputs": [
    {
     "data": {
      "text/plain": [
       "<AxesSubplot:xlabel='dayofmonth'>"
      ]
     },
     "execution_count": 14,
     "metadata": {},
     "output_type": "execute_result"
    },
    {
     "data": {
      "image/png": "[encoded data removed]",
      "text/plain": [
       "<Figure size 432x288 with 1 Axes>"
      ]
     },
     "metadata": {
      "needs_background": "light"
     },
     "output_type": "display_data"
    }
   ],
   "source": [
    "train.pivot_table('Sales','dayofmonth',aggfunc=['count']).plot(kind='bar')"
   ]
  },
  {
   "cell_type": "code",
   "execution_count": 15,
   "metadata": {},
   "outputs": [
    {
     "data": {
      "text/plain": [
       "<AxesSubplot:xlabel='dayofmonth'>"
      ]
     },
     "execution_count": 15,
     "metadata": {},
     "output_type": "execute_result"
    },
    {
     "data": {
      "image/png": "[encoded data removed]",
      "text/plain": [
       "<Figure size 432x288 with 1 Axes>"
      ]
     },
     "metadata": {
      "needs_background": "light"
     },
     "output_type": "display_data"
    }
   ],
   "source": [
    "train.pivot_table('Sales','dayofmonth',aggfunc=['mean']).plot(kind='bar')"
   ]
  },
  {
   "cell_type": "markdown",
   "metadata": {},
   "source": [
    "* There is no pattern as such in Sales average across day of month. However, we see average varies across different days"
   ]
  },
  {
   "cell_type": "code",
   "execution_count": 16,
   "metadata": {},
   "outputs": [
    {
     "data": {
      "text/plain": [
       "<AxesSubplot:xlabel='Discount'>"
      ]
     },
     "execution_count": 16,
     "metadata": {},
     "output_type": "execute_result"
    },
    {
     "data": {
      "image/png": "[encoded data removed]",
      "text/plain": [
       "<Figure size 432x288 with 1 Axes>"
      ]
     },
     "metadata": {
      "needs_background": "light"
     },
     "output_type": "display_data"
    }
   ],
   "source": [
    "train.pivot_table('Sales','Discount',aggfunc=['count','mean']).plot(kind='bar')"
   ]
  },
  {
   "cell_type": "markdown",
   "metadata": {},
   "source": [
    "* Count of no Discount is more however, average of sale is more for Discounted ones"
   ]
  },
  {
   "cell_type": "code",
   "execution_count": 17,
   "metadata": {},
   "outputs": [
    {
     "data": {
      "text/plain": [
       "<AxesSubplot:xlabel='Store_Type'>"
      ]
     },
     "execution_count": 17,
     "metadata": {},
     "output_type": "execute_result"
    },
    {
     "data": {
      "image/png": "[encoded data removed]",
      "text/plain": [
       "<Figure size 432x288 with 1 Axes>"
      ]
     },
     "metadata": {
      "needs_background": "light"
     },
     "output_type": "display_data"
    }
   ],
   "source": [
    "train.pivot_table('Sales','Store_Type',aggfunc=['count','mean']).plot(kind='bar')"
   ]
  },
  {
   "cell_type": "markdown",
   "metadata": {},
   "source": [
    "* S1 store type has more sales count however S4 store has a higher average sales amount"
   ]
  },
  {
   "cell_type": "code",
   "execution_count": 18,
   "metadata": {},
   "outputs": [
    {
     "data": {
      "text/plain": [
       "<AxesSubplot:xlabel='Location_Type'>"
      ]
     },
     "execution_count": 18,
     "metadata": {},
     "output_type": "execute_result"
    },
    {
     "data": {
      "image/png": "[encoded data removed]",
      "text/plain": [
       "<Figure size 432x288 with 1 Axes>"
      ]
     },
     "metadata": {
      "needs_background": "light"
     },
     "output_type": "display_data"
    }
   ],
   "source": [
    "train.pivot_table('Sales','Location_Type',aggfunc=['count','mean']).plot(kind='bar')"
   ]
  },
  {
   "cell_type": "code",
   "execution_count": 19,
   "metadata": {},
   "outputs": [
    {
     "data": {
      "text/plain": [
       "<AxesSubplot:xlabel='Region_Code'>"
      ]
     },
     "execution_count": 19,
     "metadata": {},
     "output_type": "execute_result"
    },
    {
     "data": {
      "image/png": "[encoded data removed]",
      "text/plain": [
       "<Figure size 432x288 with 1 Axes>"
      ]
     },
     "metadata": {
      "needs_background": "light"
     },
     "output_type": "display_data"
    }
   ],
   "source": [
    "train.pivot_table('Sales','Region_Code',aggfunc=['count','mean']).plot(kind='bar')"
   ]
  },
  {
   "cell_type": "code",
   "execution_count": 20,
   "metadata": {},
   "outputs": [
    {
     "data": {
      "text/plain": [
       "(None, None)"
      ]
     },
     "execution_count": 20,
     "metadata": {},
     "output_type": "execute_result"
    }
   ],
   "source": [
    "#Let's drop ID and Date columns as these don't has absolute relation. All relevant info from Date has already been derived\n",
    "train.drop('ID',axis=1,inplace=True), test.drop('ID',axis=1,inplace=True)\n",
    "train.drop('Date',axis=1,inplace=True), test.drop('Date',axis=1,inplace=True)"
   ]
  },
  {
   "cell_type": "code",
   "execution_count": 21,
   "metadata": {},
   "outputs": [
    {
     "data": {
      "text/plain": [
       "<AxesSubplot:xlabel='Holiday'>"
      ]
     },
     "execution_count": 21,
     "metadata": {},
     "output_type": "execute_result"
    },
    {
     "data": {
      "image/png": "[encoded data removed]",
      "text/plain": [
       "<Figure size 432x288 with 1 Axes>"
      ]
     },
     "metadata": {
      "needs_background": "light"
     },
     "output_type": "display_data"
    }
   ],
   "source": [
    "train.pivot_table('Sales','Holiday',aggfunc=['count','mean']).plot(kind='bar')"
   ]
  },
  {
   "cell_type": "markdown",
   "metadata": {},
   "source": [
    "* No much impact of Holiday's on Sale is observed. Sales number of more on non-holiday as we have less holidays and more non-holiday dates"
   ]
  },
  {
   "cell_type": "code",
   "execution_count": 22,
   "metadata": {},
   "outputs": [
    {
     "data": {
      "text/plain": [
       "<AxesSubplot:xlabel='Sales', ylabel='Density'>"
      ]
     },
     "execution_count": 22,
     "metadata": {},
     "output_type": "execute_result"
    },
    {
     "data": {
      "image/png": "[encoded data removed]",
      "text/plain": [
       "<Figure size 432x288 with 1 Axes>"
      ]
     },
     "metadata": {
      "needs_background": "light"
     },
     "output_type": "display_data"
    }
   ],
   "source": [
    "sns.kdeplot(train.Sales)"
   ]
  },
  {
   "cell_type": "markdown",
   "metadata": {},
   "source": [
    "* Target variable has outliers which makes it right skewed. We will have to address this to avoid misleaving the predictions"
   ]
  },
  {
   "cell_type": "code",
   "execution_count": 23,
   "metadata": {},
   "outputs": [
    {
     "data": {
      "text/plain": [
       "(102159.0, 247215.0, 0.0)"
      ]
     },
     "execution_count": 23,
     "metadata": {},
     "output_type": "execute_result"
    }
   ],
   "source": [
    "# Let's understand the spread of data by spotting .99 quantile value, max and min values\n",
    "train.Sales.quantile(.99), train.Sales.max(), train.Sales.min()"
   ]
  },
  {
   "cell_type": "code",
   "execution_count": 24,
   "metadata": {},
   "outputs": [],
   "source": [
    "train.loc[train.Sales>=102159.0, 'Sales']=102159.0"
   ]
  },
  {
   "cell_type": "markdown",
   "metadata": {},
   "source": [
    "* Let's update all outliers with .99 quantile value to fix right skewness"
   ]
  },
  {
   "cell_type": "code",
   "execution_count": 25,
   "metadata": {},
   "outputs": [
    {
     "data": {
      "text/plain": [
       "<AxesSubplot:xlabel='Sales', ylabel='Density'>"
      ]
     },
     "execution_count": 25,
     "metadata": {},
     "output_type": "execute_result"
    },
    {
     "data": {
      "image/png": "[encoded data removed]",
      "text/plain": [
       "<Figure size 432x288 with 1 Axes>"
      ]
     },
     "metadata": {
      "needs_background": "light"
     },
     "output_type": "display_data"
    }
   ],
   "source": [
    "sns.kdeplot(train.Sales)"
   ]
  },
  {
   "cell_type": "markdown",
   "metadata": {},
   "source": [
    "* Now target variable looks more normal (with little bumps at both ends ofcourse which can be ignored)"
   ]
  },
  {
   "cell_type": "markdown",
   "metadata": {},
   "source": [
    "# Pre-processing"
   ]
  },
  {
   "cell_type": "code",
   "execution_count": 26,
   "metadata": {},
   "outputs": [],
   "source": [
    "# Let's get categorical values encoded to be ready for model building\n",
    "train=pd.get_dummies(train,columns=['Store_Type','Location_Type','Region_Code','Discount','dayofweek','dayofmonth'])"
   ]
  },
  {
   "cell_type": "code",
   "execution_count": 27,
   "metadata": {},
   "outputs": [],
   "source": [
    "test=pd.get_dummies(test, columns=['Store_Type','Location_Type','Region_Code','Discount', 'dayofweek', 'dayofmonth'])"
   ]
  },
  {
   "cell_type": "code",
   "execution_count": 28,
   "metadata": {},
   "outputs": [
    {
     "data": {
      "text/plain": [
       "Index(['Store_id', 'Holiday', 'Month', 'Store_Type_S1', 'Store_Type_S2',\n",
       "       'Store_Type_S3', 'Store_Type_S4', 'Location_Type_L1',\n",
       "       'Location_Type_L2', 'Location_Type_L3', 'Location_Type_L4',\n",
       "       'Location_Type_L5', 'Region_Code_R1', 'Region_Code_R2',\n",
       "       'Region_Code_R3', 'Region_Code_R4', 'Discount_No', 'Discount_Yes',\n",
       "       'dayofweek_0', 'dayofweek_1', 'dayofweek_2', 'dayofweek_3',\n",
       "       'dayofweek_4', 'dayofweek_5', 'dayofweek_6', 'dayofmonth_1',\n",
       "       'dayofmonth_2', 'dayofmonth_3', 'dayofmonth_4', 'dayofmonth_5',\n",
       "       'dayofmonth_6', 'dayofmonth_7', 'dayofmonth_8', 'dayofmonth_9',\n",
       "       'dayofmonth_10', 'dayofmonth_11', 'dayofmonth_12', 'dayofmonth_13',\n",
       "       'dayofmonth_14', 'dayofmonth_15', 'dayofmonth_16', 'dayofmonth_17',\n",
       "       'dayofmonth_18', 'dayofmonth_19', 'dayofmonth_20', 'dayofmonth_21',\n",
       "       'dayofmonth_22', 'dayofmonth_23', 'dayofmonth_24', 'dayofmonth_25',\n",
       "       'dayofmonth_26', 'dayofmonth_27', 'dayofmonth_28', 'dayofmonth_29',\n",
       "       'dayofmonth_30', 'dayofmonth_31'],\n",
       "      dtype='object')"
      ]
     },
     "execution_count": 28,
     "metadata": {},
     "output_type": "execute_result"
    }
   ],
   "source": [
    "test.columns"
   ]
  },
  {
   "cell_type": "code",
   "execution_count": 29,
   "metadata": {},
   "outputs": [],
   "source": [
    "from sklearn.model_selection import train_test_split as tts\n",
    "from sklearn.linear_model import LinearRegression as LR\n",
    "from sklearn.metrics import mean_squared_log_error as msle"
   ]
  },
  {
   "cell_type": "markdown",
   "metadata": {},
   "source": [
    "# Model Building"
   ]
  },
  {
   "cell_type": "code",
   "execution_count": 30,
   "metadata": {},
   "outputs": [],
   "source": [
    "x=train.drop('Sales',axis=1)\n",
    "y=train['Sales']"
   ]
  },
  {
   "cell_type": "code",
   "execution_count": 31,
   "metadata": {},
   "outputs": [],
   "source": [
    "x_train,x_test,y_train,y_test=tts(x,y,test_size=.3,random_state=45)"
   ]
  },
  {
   "cell_type": "code",
   "execution_count": 32,
   "metadata": {},
   "outputs": [
    {
     "data": {
      "text/plain": [
       "((131838, 56), (131838,), (56502, 56), (56502,))"
      ]
     },
     "execution_count": 32,
     "metadata": {},
     "output_type": "execute_result"
    }
   ],
   "source": [
    "x_train.shape, y_train.shape, x_test.shape, y_test.shape"
   ]
  },
  {
   "cell_type": "markdown",
   "metadata": {},
   "source": [
    "## Linear regression"
   ]
  },
  {
   "cell_type": "code",
   "execution_count": 33,
   "metadata": {},
   "outputs": [
    {
     "name": "stdout",
     "output_type": "stream",
     "text": [
      "Train Scre:  106.23457089359408 Test Score:  103.77920635499338\n"
     ]
    }
   ],
   "source": [
    "model=LR(normalize=True)\n",
    "model.fit(x_train,y_train)\n",
    "train_pred_LR=model.predict(x_train)\n",
    "test_pred_LR= model.predict(x_test)\n",
    "train_score=msle(train_pred_LR,y_train)*1000\n",
    "test_score=msle(test_pred_LR,y_test)*1000\n",
    "print('Train Scre: ',train_score, 'Test Score: ',test_score)"
   ]
  },
  {
   "cell_type": "markdown",
   "metadata": {},
   "source": [
    "* It has worked reasonable good. But we can still explore other models before concluding"
   ]
  },
  {
   "cell_type": "code",
   "execution_count": 34,
   "metadata": {},
   "outputs": [],
   "source": [
    "ft=x.columns\n",
    "cf=model.coef_\n",
    "coef=pd.DataFrame({'Features':ft, 'coef':cf})"
   ]
  },
  {
   "cell_type": "code",
   "execution_count": 35,
   "metadata": {},
   "outputs": [
    {
     "data": {
      "text/plain": [
       "<BarContainer object of 56 artists>"
      ]
     },
     "execution_count": 35,
     "metadata": {},
     "output_type": "execute_result"
    },
    {
     "data": {
      "image/png": "[encoded data removed]",
      "text/plain": [
       "<Figure size 432x288 with 1 Axes>"
      ]
     },
     "metadata": {
      "needs_background": "light"
     },
     "output_type": "display_data"
    }
   ],
   "source": [
    "plt.bar(coef.Features, coef.coef)"
   ]
  },
  {
   "cell_type": "markdown",
   "metadata": {},
   "source": [
    "* Most of the dimensons seem to have a good correlation. Worth considering all"
   ]
  },
  {
   "cell_type": "markdown",
   "metadata": {},
   "source": [
    "## Ridge model"
   ]
  },
  {
   "cell_type": "code",
   "execution_count": 36,
   "metadata": {},
   "outputs": [
    {
     "name": "stdout",
     "output_type": "stream",
     "text": [
      "    alpha  train_score  test_score\n",
      "0  0.0001   106.272465  103.821511\n",
      "1  0.0100   106.267511  103.819637\n",
      "2  0.1000   106.849505  104.401528\n",
      "3  1.0000   126.449748  123.625225\n",
      "4  2.0000   145.267849  142.188761\n"
     ]
    }
   ],
   "source": [
    "from sklearn.linear_model import Ridge\n",
    "\n",
    "train_score=[]\n",
    "test_score=[]\n",
    "alpha=[]\n",
    "for i in [1e-4, 1e-2, 1e-1, 1, 2]:\n",
    "    modelR=Ridge(alpha=i, normalize=True)\n",
    "    modelR.fit(x_train,y_train)\n",
    "    train_pred=modelR.predict(x_train)\n",
    "    test_pred=modelR.predict(x_test)\n",
    "    train_score.append(msle(train_pred,y_train)*1000)\n",
    "    test_score.append(msle(test_pred,y_test)*1000)\n",
    "    alpha.append(i)\n",
    "\n",
    "Scores={'alpha':alpha, 'train_score':train_score, 'test_score':test_score}\n",
    "print(pd.DataFrame(Scores))"
   ]
  },
  {
   "cell_type": "markdown",
   "metadata": {},
   "source": [
    "* With different alpha values we can see .01 gives best performance. But no significant gain over general model"
   ]
  },
  {
   "cell_type": "markdown",
   "metadata": {},
   "source": [
    "## Lasso"
   ]
  },
  {
   "cell_type": "code",
   "execution_count": 37,
   "metadata": {},
   "outputs": [
    {
     "name": "stdout",
     "output_type": "stream",
     "text": [
      "    alpha  train_score  test_score\n",
      "0  0.0001   106.272642  103.821636\n",
      "1  0.0100   106.279736  103.827158\n",
      "2  0.1000   106.400026  103.932761\n",
      "3  1.0000   109.694262  107.075042\n",
      "4  2.0000   113.881852  111.121159\n"
     ]
    }
   ],
   "source": [
    "from sklearn.linear_model import Lasso\n",
    "train_score=[]\n",
    "test_score=[]\n",
    "alpha=[]\n",
    "for i in [1e-4, 1e-2, 1e-1, 1, 2]:\n",
    "    modelL=Lasso(alpha=i, normalize=True)\n",
    "    modelL.fit(x_train,y_train)\n",
    "    train_pred=modelL.predict(x_train)\n",
    "    test_pred=modelL.predict(x_test)\n",
    "    train_score.append(msle(train_pred,y_train)*1000)\n",
    "    test_score.append(msle(test_pred,y_test)*1000)\n",
    "    alpha.append(i)\n",
    "\n",
    "Scores={'alpha':alpha, 'train_score':train_score, 'test_score':test_score}\n",
    "print(pd.DataFrame(Scores))"
   ]
  },
  {
   "cell_type": "markdown",
   "metadata": {},
   "source": [
    "* With differet alpha values .0001 seems to give better formance. But inline with Ridge no major gain"
   ]
  },
  {
   "cell_type": "markdown",
   "metadata": {},
   "source": [
    "## Decision Tree"
   ]
  },
  {
   "cell_type": "code",
   "execution_count": 38,
   "metadata": {},
   "outputs": [
    {
     "name": "stdout",
     "output_type": "stream",
     "text": [
      "   Max_Depth  Train_Score  Test_Score\n",
      "0          5   118.776485  115.613267\n",
      "1          8    86.405190   83.790042\n",
      "2         10    70.124771   69.275945\n",
      "3         12    59.371679   63.337859\n",
      "4         15    45.435864   63.903943\n",
      "5         18    32.930813   69.897181\n",
      "6         20    25.808480   78.375207\n"
     ]
    }
   ],
   "source": [
    "from sklearn.tree import DecisionTreeRegressor as TR\n",
    "\n",
    "train_score=[]\n",
    "test_score=[]\n",
    "mx_dpth=[5, 8, 10, 12, 15, 18, 20]\n",
    "for i in mx_dpth:\n",
    "    modelTR=TR(random_state=30, max_depth=i)\n",
    "    modelTR.fit(x_train, y_train)\n",
    "    train_pred=modelTR.predict(x_train)\n",
    "    test_pred=modelTR.predict(x_test)\n",
    "    train_score.append(msle(train_pred,y_train)*1000)\n",
    "    test_score.append(msle(test_pred,y_test)*1000)\n",
    "\n",
    "Scores={'Max_Depth':mx_dpth, 'Train_Score':train_score, 'Test_Score':test_score}\n",
    "print(pd.DataFrame(Scores))"
   ]
  },
  {
   "cell_type": "markdown",
   "metadata": {},
   "source": [
    "* Decision tree with max depth 12 gives a significant improvement in the performance when compared to linear models"
   ]
  },
  {
   "cell_type": "markdown",
   "metadata": {},
   "source": [
    "## Ensembling with Random Forest"
   ]
  },
  {
   "cell_type": "code",
   "execution_count": 40,
   "metadata": {},
   "outputs": [],
   "source": [
    "from sklearn.ensemble import RandomForestRegressor\n",
    "\n",
    "train_score=[]\n",
    "test_score=[]\n",
    "n_estimators=[]\n",
    "max_depth=[]\n",
    "\n",
    "for i in [20,25,30,35,40]:\n",
    "    for j in [10,15,20,25]:\n",
    "        modelRF=RandomForestRegressor(random_state=101, n_estimators=i, max_depth=j)\n",
    "        modelRF.fit(x_train,y_train)\n",
    "        train_pred=modelRF.predict(x_train)\n",
    "        test_pred=modelRF.predict(x_test)\n",
    "        train_score.append(msle(train_pred, y_train))\n",
    "        test_score.append(msle(test_pred,y_test))\n",
    "        n_estimators.append(i)\n",
    "        max_depth.append(j)\n",
    "\n",
    "Score={'n_estimators':n_estimators, 'max_depth':max_depth, 'Train_Score':train_score, 'test_score':test_score}"
   ]
  },
  {
   "cell_type": "code",
   "execution_count": 41,
   "metadata": {},
   "outputs": [
    {
     "name": "stdout",
     "output_type": "stream",
     "text": [
      "    n_estimators  max_depth  Train_Score  test_score\n",
      "19            40         25     0.022981    0.051304\n",
      "15            35         25     0.023009    0.051417\n",
      "18            40         20     0.031744    0.051437\n",
      "11            30         25     0.023106    0.051489\n",
      "14            35         20     0.031775    0.051522\n",
      "10            30         20     0.031813    0.051577\n",
      "7             25         25     0.023210    0.051702\n",
      "6             25         20     0.031874    0.051715\n",
      "2             20         20     0.031951    0.051897\n",
      "3             20         25     0.023346    0.051927\n",
      "17            40         15     0.045591    0.053852\n",
      "9             30         15     0.045634    0.053911\n",
      "13            35         15     0.045614    0.053933\n",
      "5             25         15     0.045723    0.054040\n",
      "1             20         15     0.045794    0.054149\n",
      "4             25         10     0.068728    0.068193\n",
      "0             20         10     0.068826    0.068258\n",
      "8             30         10     0.068880    0.068493\n",
      "16            40         10     0.068846    0.068552\n",
      "12            35         10     0.068861    0.068578\n"
     ]
    }
   ],
   "source": [
    "print(pd.DataFrame(Score).sort_values('test_score'))"
   ]
  },
  {
   "cell_type": "markdown",
   "metadata": {},
   "source": [
    "* Random forest with 40 trees and 15 max_depth gives the best performance of all that we have tried"
   ]
  },
  {
   "cell_type": "code",
   "execution_count": 43,
   "metadata": {},
   "outputs": [
    {
     "name": "stdout",
     "output_type": "stream",
     "text": [
      "0.04559092182274675   0.05385174342497422\n"
     ]
    }
   ],
   "source": [
    "from sklearn.ensemble import RandomForestRegressor\n",
    "modelRF=RandomForestRegressor(random_state=101, n_estimators=40\n",
    "                              , max_depth=15)\n",
    "modelRF.fit(x_train,y_train)\n",
    "train_pred=modelRF.predict(x_train)\n",
    "test_pred=modelRF.predict(x_test)\n",
    "train_score=msle(train_pred, y_train)\n",
    "test_score=msle(test_pred,y_test)\n",
    "print(train_score, ' ', test_score)"
   ]
  },
  {
   "cell_type": "code",
   "execution_count": 44,
   "metadata": {},
   "outputs": [],
   "source": [
    "submission = pd.read_csv('SAMPLE.csv')\n",
    "final_predictions = modelRF.predict(test)\n",
    "submission['Sales'] = final_predictions\n",
    "#only positive predictions for the target variable\n",
    "submission['Sales'] = submission['Sales'].apply(lambda x: 0 if x<0 else x)\n",
    "submission.to_csv('my_submission.csv', index=False)"
   ]
  }
 ],
 "metadata": {
  "kernelspec": {
   "display_name": "Python 3",
   "language": "python",
   "name": "python3"
  },
  "language_info": {
   "codemirror_mode": {
    "name": "ipython",
    "version": 3
   },
   "file_extension": ".py",
   "mimetype": "text/x-python",
   "name": "python",
   "nbconvert_exporter": "python",
   "pygments_lexer": "ipython3",
   "version": "3.8.3"
  }
 },
 "nbformat": 4,
 "nbformat_minor": 4
}
